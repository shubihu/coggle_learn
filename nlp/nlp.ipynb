{
 "cells": [
  {
   "cell_type": "code",
   "execution_count": 23,
   "metadata": {},
   "outputs": [],
   "source": [
    "import pandas as pd"
   ]
  },
  {
   "cell_type": "code",
   "execution_count": 25,
   "metadata": {},
   "outputs": [],
   "source": [
    "train_df = pd.read_csv('train_set.csv', sep='\\t', nrows=1000)\n",
    "train_df['word'] = train_df['text'].apply(lambda x: len(x.split(' ')))"
   ]
  },
  {
   "cell_type": "code",
   "execution_count": 26,
   "metadata": {},
   "outputs": [
    {
     "data": {
      "text/html": [
       "<div>\n",
       "<style scoped>\n",
       "    .dataframe tbody tr th:only-of-type {\n",
       "        vertical-align: middle;\n",
       "    }\n",
       "\n",
       "    .dataframe tbody tr th {\n",
       "        vertical-align: top;\n",
       "    }\n",
       "\n",
       "    .dataframe thead th {\n",
       "        text-align: right;\n",
       "    }\n",
       "</style>\n",
       "<table border=\"1\" class=\"dataframe\">\n",
       "  <thead>\n",
       "    <tr style=\"text-align: right;\">\n",
       "      <th></th>\n",
       "      <th>label</th>\n",
       "      <th>text</th>\n",
       "      <th>word</th>\n",
       "    </tr>\n",
       "  </thead>\n",
       "  <tbody>\n",
       "    <tr>\n",
       "      <th>0</th>\n",
       "      <td>2</td>\n",
       "      <td>2967 6758 339 2021 1854 3731 4109 3792 4149 15...</td>\n",
       "      <td>1057</td>\n",
       "    </tr>\n",
       "    <tr>\n",
       "      <th>1</th>\n",
       "      <td>11</td>\n",
       "      <td>4464 486 6352 5619 2465 4802 1452 3137 5778 54...</td>\n",
       "      <td>486</td>\n",
       "    </tr>\n",
       "    <tr>\n",
       "      <th>2</th>\n",
       "      <td>3</td>\n",
       "      <td>7346 4068 5074 3747 5681 6093 1777 2226 7354 6...</td>\n",
       "      <td>764</td>\n",
       "    </tr>\n",
       "    <tr>\n",
       "      <th>3</th>\n",
       "      <td>2</td>\n",
       "      <td>7159 948 4866 2109 5520 2490 211 3956 5520 549...</td>\n",
       "      <td>1570</td>\n",
       "    </tr>\n",
       "    <tr>\n",
       "      <th>4</th>\n",
       "      <td>3</td>\n",
       "      <td>3646 3055 3055 2490 4659 6065 3370 5814 2465 5...</td>\n",
       "      <td>307</td>\n",
       "    </tr>\n",
       "  </tbody>\n",
       "</table>\n",
       "</div>"
      ],
      "text/plain": [
       "   label                                               text  word\n",
       "0      2  2967 6758 339 2021 1854 3731 4109 3792 4149 15...  1057\n",
       "1     11  4464 486 6352 5619 2465 4802 1452 3137 5778 54...   486\n",
       "2      3  7346 4068 5074 3747 5681 6093 1777 2226 7354 6...   764\n",
       "3      2  7159 948 4866 2109 5520 2490 211 3956 5520 549...  1570\n",
       "4      3  3646 3055 3055 2490 4659 6065 3370 5814 2465 5...   307"
      ]
     },
     "execution_count": 26,
     "metadata": {},
     "output_type": "execute_result"
    }
   ],
   "source": [
    "train_df.head()"
   ]
  },
  {
   "cell_type": "markdown",
   "metadata": {},
   "source": [
    "### task2"
   ]
  },
  {
   "cell_type": "code",
   "execution_count": 28,
   "metadata": {},
   "outputs": [
    {
     "data": {
      "text/plain": [
       "904.309"
      ]
     },
     "execution_count": 28,
     "metadata": {},
     "output_type": "execute_result"
    }
   ],
   "source": [
    "# 数据集中所有句子所包含字符的平均个数\n",
    "train_df['word'].mean()"
   ]
  },
  {
   "cell_type": "code",
   "execution_count": 29,
   "metadata": {},
   "outputs": [
    {
     "data": {
      "text/plain": [
       "label\n",
       "0      881.795580\n",
       "1      874.927184\n",
       "2      942.828947\n",
       "3      762.646018\n",
       "4      693.765432\n",
       "5     1102.065574\n",
       "6     1353.651163\n",
       "7     1074.604651\n",
       "8      861.568182\n",
       "9     1138.478261\n",
       "10     868.666667\n",
       "11     514.785714\n",
       "12    1000.833333\n",
       "13    1064.000000\n",
       "Name: word, dtype: float64"
      ]
     },
     "execution_count": 29,
     "metadata": {},
     "output_type": "execute_result"
    }
   ],
   "source": [
    "# 数据集中不同类别下句子平均字符的个数\n",
    "train_df.groupby('label')['word'].mean()"
   ]
  },
  {
   "cell_type": "code",
   "execution_count": 43,
   "metadata": {},
   "outputs": [
    {
     "name": "stdout",
     "output_type": "stream",
     "text": [
      "1     206\n",
      "0     181\n",
      "2     152\n",
      "3     113\n",
      "4      81\n",
      "5      61\n",
      "8      44\n",
      "7      43\n",
      "6      43\n",
      "10     27\n",
      "9      23\n",
      "11     14\n",
      "13      6\n",
      "12      6\n",
      "Name: label, dtype: int64\n"
     ]
    },
    {
     "data": {
      "text/plain": [
       "<matplotlib.axes._subplots.AxesSubplot at 0x19518aceec8>"
      ]
     },
     "execution_count": 43,
     "metadata": {},
     "output_type": "execute_result"
    },
    {
     "data": {
      "image/png": "[encoded data removed]",
      "text/plain": [
       "<Figure size 432x288 with 1 Axes>"
      ]
     },
     "metadata": {
      "needs_background": "light"
     },
     "output_type": "display_data"
    }
   ],
   "source": [
    "# 数据集中类别分布的规律\n",
    "print(train_df['label'].value_counts())\n",
    "train_df['label'].hist()"
   ]
  },
  {
   "cell_type": "code",
   "execution_count": 41,
   "metadata": {},
   "outputs": [
    {
     "data": {
      "text/plain": [
       "Index(['3750', '648', '900', '3370', '4464'], dtype='object')"
      ]
     },
     "execution_count": 41,
     "metadata": {},
     "output_type": "execute_result"
    }
   ],
   "source": [
    "pd.DataFrame(' '.join(train_df[train_df['label'] == 0]['text']).split(' '))[0].value_counts().iloc[:5].index"
   ]
  },
  {
   "cell_type": "code",
   "execution_count": 38,
   "metadata": {},
   "outputs": [
    {
     "name": "stdout",
     "output_type": "stream",
     "text": [
      "0 Index(['3750', '648', '900', '3370', '4464'], dtype='object')\n",
      "1 Index(['3750', '648', '900', '3370', '4464'], dtype='object')\n",
      "2 Index(['3750', '648', '900', '3370', '4464'], dtype='object')\n",
      "3 Index(['3750', '648', '900', '3370', '4464'], dtype='object')\n",
      "4 Index(['3750', '648', '900', '3370', '4464'], dtype='object')\n",
      "5 Index(['3750', '648', '900', '3370', '4464'], dtype='object')\n",
      "6 Index(['3750', '648', '900', '3370', '4464'], dtype='object')\n",
      "7 Index(['3750', '648', '900', '3370', '4464'], dtype='object')\n",
      "8 Index(['3750', '648', '900', '3370', '4464'], dtype='object')\n",
      "9 Index(['3750', '648', '900', '3370', '4464'], dtype='object')\n",
      "10 Index(['3750', '648', '900', '3370', '4464'], dtype='object')\n",
      "11 Index(['3750', '648', '900', '3370', '4464'], dtype='object')\n",
      "12 Index(['3750', '648', '900', '3370', '4464'], dtype='object')\n",
      "13 Index(['3750', '648', '900', '3370', '4464'], dtype='object')\n"
     ]
    }
   ],
   "source": [
    "## 数据集中不同类别下句子中最常见的5个字符\n",
    "for c in range(14):\n",
    "    print(c, pd.DataFrame(' '.join(train_df[train_df['label'] == 0]['text']).split(' '))[0].value_counts().iloc[:5].index)"
   ]
  },
  {
   "cell_type": "code",
   "execution_count": null,
   "metadata": {},
   "outputs": [],
   "source": []
  }
 ],
 "metadata": {
  "kernelspec": {
   "display_name": "Python 3",
   "language": "python",
   "name": "python3"
  },
  "language_info": {
   "codemirror_mode": {
    "name": "ipython",
    "version": 3
   },
   "file_extension": ".py",
   "mimetype": "text/x-python",
   "name": "python",
   "nbconvert_exporter": "python",
   "pygments_lexer": "ipython3",
   "version": "3.7.6"
  }
 },
 "nbformat": 4,
 "nbformat_minor": 4
}
